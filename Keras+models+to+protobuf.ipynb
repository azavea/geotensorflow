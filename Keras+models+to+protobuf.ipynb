{
 "cells": [
  {
   "cell_type": "markdown",
   "metadata": {},
   "source": [
    "# [Classify ImageNet classes with ResNet50](https://keras.io/applications/#usage-examples-for-image-classification-models)"
   ]
  },
  {
   "cell_type": "code",
   "execution_count": 1,
   "metadata": {},
   "outputs": [
    {
     "name": "stderr",
     "output_type": "stream",
     "text": [
      "Using TensorFlow backend.\n"
     ]
    },
    {
     "name": "stdout",
     "output_type": "stream",
     "text": [
      "Predicted: [('n02510455', 'giant_panda', 0.99036354), ('n02500267', 'indri', 0.0058755828), ('n02509815', 'lesser_panda', 0.0016656154)]\n"
     ]
    }
   ],
   "source": [
    "from keras.applications.resnet50 import ResNet50\n",
    "from keras.preprocessing import image\n",
    "from keras.applications.resnet50 import preprocess_input, decode_predictions\n",
    "import numpy as np\n",
    "\n",
    "# To prevent an issue similar to https://stackoverflow.com/questions/42969779/keras-error-you-must-feed-a-value-for-placeholder-tensor-bidirectional-1-keras\n",
    "from keras import backend as K\n",
    "K.set_learning_phase(0)\n",
    "\n",
    "model = ResNet50(weights='imagenet')\n",
    "\n",
    "img_path = 'cropped_panda.jpg'\n",
    "img = image.load_img(img_path, target_size=(224, 224))\n",
    "x = image.img_to_array(img)\n",
    "x = np.expand_dims(x, axis=0)\n",
    "x = preprocess_input(x)\n",
    "\n",
    "preds = model.predict(x)\n",
    "# decode the results into a list of tuples (class, description, probability)\n",
    "# (one such list for each sample in the batch)\n",
    "print('Predicted:', decode_predictions(preds, top=3)[0])\n",
    "# Predicted: [('n02510455', 'giant_panda', 0.99036354), ('n02500267', 'indri', 0.0058755828), ('n02509815', 'lesser_panda', 0.0016656154)]"
   ]
  },
  {
   "cell_type": "markdown",
   "metadata": {},
   "source": [
    "# Altered [FreezeGraphTest](https://github.com/tensorflow/tensorflow/blob/master/tensorflow/python/tools/freeze_graph_test.py#L15-L107) with predictions"
   ]
  },
  {
   "cell_type": "code",
   "execution_count": 2,
   "metadata": {
    "collapsed": true
   },
   "outputs": [],
   "source": [
    "\"\"\"Tests the graph freezing tool.\"\"\"\n",
    "\n",
    "from __future__ import absolute_import\n",
    "from __future__ import division\n",
    "from __future__ import print_function\n",
    "\n",
    "import os\n",
    "\n",
    "from tensorflow.core.example import example_pb2\n",
    "from tensorflow.core.framework import graph_pb2\n",
    "from tensorflow.core.protobuf import saver_pb2\n",
    "from tensorflow.python.client import session\n",
    "from tensorflow.python.framework import dtypes\n",
    "from tensorflow.python.framework import graph_io\n",
    "from tensorflow.python.framework import importer\n",
    "from tensorflow.python.framework import ops\n",
    "from tensorflow.python.framework import test_util\n",
    "from tensorflow.python.ops import array_ops\n",
    "from tensorflow.python.ops import math_ops\n",
    "from tensorflow.python.ops import parsing_ops\n",
    "from tensorflow.python.ops import variables\n",
    "from tensorflow.python.platform import test\n",
    "from tensorflow.python.saved_model import builder as saved_model_builder\n",
    "from tensorflow.python.saved_model import signature_constants\n",
    "from tensorflow.python.saved_model import signature_def_utils\n",
    "from tensorflow.python.saved_model import tag_constants\n",
    "from tensorflow.python.tools import freeze_graph\n",
    "from tensorflow.python.training import saver as saver_lib\n",
    "\n",
    "\n",
    "class FreezeGraphTest(test_util.TensorFlowTestCase):\n",
    "    \n",
    "    def _testFreezeGraph(self, saver_write_version):\n",
    "        \n",
    "        checkpoint_prefix = os.path.join(self.get_temp_dir(), \"saved_checkpoint\")\n",
    "        checkpoint_meta_graph_file = os.path.join(self.get_temp_dir(),\n",
    "                                                  \"saved_checkpoint.meta\")\n",
    "        checkpoint_state_name = \"checkpoint_state\"\n",
    "        input_graph_name = \"input_graph.pb\"\n",
    "        output_graph_name = \"output_graph.pb\"\n",
    "\n",
    "        # # We'll create an input graph that has a single variable containing 1.0,\n",
    "        # # and that then multiplies it by 2.\n",
    "        # with ops.Graph().as_default():\n",
    "        with K.get_session().graph.as_default(): # Get DenseNet50 graph from Keras session\n",
    "            # variable_node = variables.Variable(1.0, name=\"variable_node\")\n",
    "            # sess = session.Session()\n",
    "            sess = K.get_session()\n",
    "            init = variables.global_variables_initializer()\n",
    "            sess.run(init)\n",
    "            # output = sess.run(output_node)\n",
    "            # self.assertNear(2.0, output, 0.00001)\n",
    "            saver = saver_lib.Saver(write_version=saver_write_version)\n",
    "            checkpoint_path = saver.save(\n",
    "                sess,\n",
    "                checkpoint_prefix,\n",
    "                global_step=0,\n",
    "                latest_filename=checkpoint_state_name)\n",
    "            graph_io.write_graph(sess.graph, self.get_temp_dir(), input_graph_name)\n",
    "\n",
    "        # We save out the graph to disk, and then call the const conversion\n",
    "        # routine.\n",
    "        input_graph_path = os.path.join(self.get_temp_dir(), input_graph_name)\n",
    "        input_saver_def_path = \"\"\n",
    "        input_binary = False\n",
    "        output_node_names = model.outputs[0].op.name\n",
    "        restore_op_name = \"save/restore_all\"\n",
    "        filename_tensor_name = \"save/Const:0\"\n",
    "        output_graph_path = os.path.join(self.get_temp_dir(), output_graph_name)\n",
    "        clear_devices = False\n",
    "        input_meta_graph = checkpoint_meta_graph_file\n",
    "        \n",
    "        freeze_graph.freeze_graph(\n",
    "            input_graph_path, input_saver_def_path, input_binary, checkpoint_path,\n",
    "            output_node_names, restore_op_name, filename_tensor_name,\n",
    "            output_graph_path, clear_devices, \"\", \"\")#, input_meta_graph) # freeze_graph() got an unexpected keyword argument 'input_meta_graph'\n",
    "\n",
    "        # Now we make sure the variable is now a constant, and that the graph still\n",
    "        # produces the expected result.\n",
    "        with ops.Graph().as_default():\n",
    "            output_graph_def = graph_pb2.GraphDef()\n",
    "            with open(output_graph_path, \"rb\") as f:\n",
    "                output_graph_def.ParseFromString(f.read())\n",
    "                _ = importer.import_graph_def(output_graph_def, name=\"\")\n",
    "\n",
    "            # self.assertEqual(4, len(output_graph_def.node))\n",
    "            for node in output_graph_def.node:\n",
    "                self.assertNotEqual(\"VariableV2\", node.op)\n",
    "                self.assertNotEqual(\"Variable\", node.op)\n",
    "\n",
    "            with K.get_session() as sess:\n",
    "                # output_node = sess.graph.get_tensor_by_name(\"output_node:0\")\n",
    "                input_node = sess.graph.get_tensor_by_name(\"input_1:0\")\n",
    "                output_node = sess.graph.get_tensor_by_name(\"fc1000/Softmax:0\")\n",
    "                # output = sess.run(output_node)\n",
    "                output = sess.run(output_node, feed_dict={input_node: x})\n",
    "                # self.assertNear(2.0, output, 0.00001)\n",
    "                print()\n",
    "                print('Predicted 1:', decode_predictions(preds, top=3)[0])\n",
    "                print('Predicted 2:', decode_predictions(output, top=3)[0])           "
   ]
  },
  {
   "cell_type": "code",
   "execution_count": 3,
   "metadata": {},
   "outputs": [
    {
     "name": "stdout",
     "output_type": "stream",
     "text": [
      "INFO:tensorflow:Froze 320 variables.\n",
      "Converted 320 variables to const ops.\n",
      "1253 ops in the final graph.\n",
      "\n",
      "Predicted 1: [('n02510455', 'giant_panda', 0.99036354), ('n02500267', 'indri', 0.0058755828), ('n02509815', 'lesser_panda', 0.0016656154)]\n",
      "Predicted 2: [('n01910747', 'jellyfish', 0.27250421), ('n03995372', 'power_drill', 0.21951485), ('n03787032', 'mortarboard', 0.1852365)]\n"
     ]
    }
   ],
   "source": [
    "FreezeGraphTest()._testFreezeGraph(saver_pb2.SaverDef.V2)"
   ]
  }
 ],
 "metadata": {
  "kernelspec": {
   "display_name": "Python 3",
   "language": "python",
   "name": "python3"
  },
  "language_info": {
   "codemirror_mode": {
    "name": "ipython",
    "version": 3
   },
   "file_extension": ".py",
   "mimetype": "text/x-python",
   "name": "python",
   "nbconvert_exporter": "python",
   "pygments_lexer": "ipython3",
   "version": "3.5.3"
  }
 },
 "nbformat": 4,
 "nbformat_minor": 2
}
